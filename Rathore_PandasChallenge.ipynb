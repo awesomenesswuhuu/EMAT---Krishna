{
 "cells": [
  {
   "cell_type": "markdown",
   "id": "640ac76c-0a5d-4692-b6ce-47cd170f886d",
   "metadata": {},
   "source": [
    "Hey David! This is my attempt at the assignment. I did face a few roadblocks on the way which I'm going to be explaining through these markdown cells, hope that's okay! I'll also make personal notes so I can come back and learn from this assignment. I started out with the work we had started in class. "
   ]
  },
  {
   "cell_type": "code",
   "execution_count": 18,
   "id": "20a5f3ba-6c5b-4e1e-811a-59ca36194f5c",
   "metadata": {},
   "outputs": [],
   "source": [
    "import pandas as pd"
   ]
  },
  {
   "cell_type": "markdown",
   "id": "db18d492-7c3e-43a0-9e2b-b283e73b8c86",
   "metadata": {},
   "source": [
    "### Dictionary"
   ]
  },
  {
   "cell_type": "code",
   "execution_count": 19,
   "id": "c2f3421b-0b55-4b8a-aa1c-c5a8ad7b32cd",
   "metadata": {},
   "outputs": [
    {
     "data": {
      "text/html": [
       "<div>\n",
       "<style scoped>\n",
       "    .dataframe tbody tr th:only-of-type {\n",
       "        vertical-align: middle;\n",
       "    }\n",
       "\n",
       "    .dataframe tbody tr th {\n",
       "        vertical-align: top;\n",
       "    }\n",
       "\n",
       "    .dataframe thead th {\n",
       "        text-align: right;\n",
       "    }\n",
       "</style>\n",
       "<table border=\"1\" class=\"dataframe\">\n",
       "  <thead>\n",
       "    <tr style=\"text-align: right;\">\n",
       "      <th></th>\n",
       "      <th>a</th>\n",
       "      <th>b</th>\n",
       "    </tr>\n",
       "  </thead>\n",
       "  <tbody>\n",
       "    <tr>\n",
       "      <th>0</th>\n",
       "      <td>1</td>\n",
       "      <td>mushrooms</td>\n",
       "    </tr>\n",
       "    <tr>\n",
       "      <th>1</th>\n",
       "      <td>2</td>\n",
       "      <td>bellpeppers</td>\n",
       "    </tr>\n",
       "    <tr>\n",
       "      <th>2</th>\n",
       "      <td>3</td>\n",
       "      <td>broccolli</td>\n",
       "    </tr>\n",
       "  </tbody>\n",
       "</table>\n",
       "</div>"
      ],
      "text/plain": [
       "   a            b\n",
       "0  1    mushrooms\n",
       "1  2  bellpeppers\n",
       "2  3    broccolli"
      ]
     },
     "execution_count": 19,
     "metadata": {},
     "output_type": "execute_result"
    }
   ],
   "source": [
    "my_data = {'a':[1,2,3],\n",
    "          'b':['mushrooms', 'bellpeppers', 'broccolli']}\n",
    "my_df = pd.DataFrame(my_data)\n",
    "my_df.head()"
   ]
  },
  {
   "cell_type": "markdown",
   "id": "9ff92769-0f60-4d53-9527-e72752c57d04",
   "metadata": {},
   "source": [
    "Note for self: head() - first 5 rows until number specified in ()"
   ]
  },
  {
   "cell_type": "markdown",
   "id": "03e3ed44-9566-471f-8fcb-4e47a074bc1d",
   "metadata": {},
   "source": [
    "### List"
   ]
  },
  {
   "cell_type": "code",
   "execution_count": 20,
   "id": "8e26c7f5-bf96-402a-b6e7-ef033ccd3f97",
   "metadata": {},
   "outputs": [
    {
     "data": {
      "text/html": [
       "<div>\n",
       "<style scoped>\n",
       "    .dataframe tbody tr th:only-of-type {\n",
       "        vertical-align: middle;\n",
       "    }\n",
       "\n",
       "    .dataframe tbody tr th {\n",
       "        vertical-align: top;\n",
       "    }\n",
       "\n",
       "    .dataframe thead th {\n",
       "        text-align: right;\n",
       "    }\n",
       "</style>\n",
       "<table border=\"1\" class=\"dataframe\">\n",
       "  <thead>\n",
       "    <tr style=\"text-align: right;\">\n",
       "      <th></th>\n",
       "      <th>a</th>\n",
       "      <th>b</th>\n",
       "    </tr>\n",
       "  </thead>\n",
       "  <tbody>\n",
       "    <tr>\n",
       "      <th>0</th>\n",
       "      <td>1</td>\n",
       "      <td>mushrooms</td>\n",
       "    </tr>\n",
       "    <tr>\n",
       "      <th>1</th>\n",
       "      <td>2</td>\n",
       "      <td>bellpeppers</td>\n",
       "    </tr>\n",
       "    <tr>\n",
       "      <th>2</th>\n",
       "      <td>3</td>\n",
       "      <td>broccoli</td>\n",
       "    </tr>\n",
       "  </tbody>\n",
       "</table>\n",
       "</div>"
      ],
      "text/plain": [
       "   a            b\n",
       "0  1    mushrooms\n",
       "1  2  bellpeppers\n",
       "2  3     broccoli"
      ]
     },
     "execution_count": 20,
     "metadata": {},
     "output_type": "execute_result"
    }
   ],
   "source": [
    "my_data2 = [{'a':1, 'b':'mushrooms'},\n",
    "            {'a':2, 'b':'bellpeppers'},\n",
    "            {'a':3, 'b':'broccoli'}]\n",
    "my_df2 = pd.DataFrame(my_data2)\n",
    "my_df2"
   ]
  },
  {
   "cell_type": "markdown",
   "id": "0403ace4-1079-4591-8051-bdcc1e1c8f47",
   "metadata": {},
   "source": [
    "### First Row "
   ]
  },
  {
   "cell_type": "markdown",
   "id": "7e1e20d0-b2dd-4240-b7b3-ae96f7e7ca96",
   "metadata": {},
   "source": [
    "I'm trying multiple ways to get the first row here"
   ]
  },
  {
   "cell_type": "markdown",
   "id": "01482e7f-57a8-4fe4-a034-013223c536e1",
   "metadata": {},
   "source": [
    "Attempt 1 "
   ]
  },
  {
   "cell_type": "code",
   "execution_count": 21,
   "id": "a9d24c77-44a7-44d2-a827-d9df4a023be5",
   "metadata": {},
   "outputs": [
    {
     "data": {
      "text/html": [
       "<div>\n",
       "<style scoped>\n",
       "    .dataframe tbody tr th:only-of-type {\n",
       "        vertical-align: middle;\n",
       "    }\n",
       "\n",
       "    .dataframe tbody tr th {\n",
       "        vertical-align: top;\n",
       "    }\n",
       "\n",
       "    .dataframe thead th {\n",
       "        text-align: right;\n",
       "    }\n",
       "</style>\n",
       "<table border=\"1\" class=\"dataframe\">\n",
       "  <thead>\n",
       "    <tr style=\"text-align: right;\">\n",
       "      <th></th>\n",
       "      <th>a</th>\n",
       "      <th>b</th>\n",
       "    </tr>\n",
       "  </thead>\n",
       "  <tbody>\n",
       "    <tr>\n",
       "      <th>0</th>\n",
       "      <td>1</td>\n",
       "      <td>mushrooms</td>\n",
       "    </tr>\n",
       "  </tbody>\n",
       "</table>\n",
       "</div>"
      ],
      "text/plain": [
       "   a          b\n",
       "0  1  mushrooms"
      ]
     },
     "execution_count": 21,
     "metadata": {},
     "output_type": "execute_result"
    }
   ],
   "source": [
    "my_df2.head(1)"
   ]
  },
  {
   "cell_type": "markdown",
   "id": "ff178fab-c593-4890-98f6-49d7dbd70d15",
   "metadata": {},
   "source": [
    "Attempt 2"
   ]
  },
  {
   "cell_type": "code",
   "execution_count": 22,
   "id": "70f5b0c2-3c12-4f38-b2a8-e8ce2e5bdebc",
   "metadata": {},
   "outputs": [
    {
     "data": {
      "text/plain": [
       "a            1\n",
       "b    mushrooms\n",
       "Name: 0, dtype: object"
      ]
     },
     "execution_count": 22,
     "metadata": {},
     "output_type": "execute_result"
    }
   ],
   "source": [
    "my_df.iloc[0]"
   ]
  },
  {
   "cell_type": "markdown",
   "id": "d025bbfb-3832-42cc-ad84-2c08fbced6e7",
   "metadata": {},
   "source": [
    "Or"
   ]
  },
  {
   "cell_type": "code",
   "execution_count": 23,
   "id": "bba5a54f-eb7f-4799-baf6-b0adbb9b3246",
   "metadata": {},
   "outputs": [
    {
     "data": {
      "text/plain": [
       "a            1\n",
       "b    mushrooms\n",
       "Name: 0, dtype: object"
      ]
     },
     "execution_count": 23,
     "metadata": {},
     "output_type": "execute_result"
    }
   ],
   "source": [
    "my_df.loc[0]"
   ]
  },
  {
   "cell_type": "markdown",
   "id": "ccc93bc9-8603-4e9b-94b2-753c6b97f625",
   "metadata": {},
   "source": [
    "### First Column"
   ]
  },
  {
   "cell_type": "code",
   "execution_count": 24,
   "id": "980b516e-2c3f-489f-bf8b-5b277ca73e4b",
   "metadata": {},
   "outputs": [
    {
     "data": {
      "text/plain": [
       "0    1\n",
       "1    2\n",
       "2    3\n",
       "Name: a, dtype: int64"
      ]
     },
     "execution_count": 24,
     "metadata": {},
     "output_type": "execute_result"
    }
   ],
   "source": [
    "my_df['a']"
   ]
  },
  {
   "cell_type": "code",
   "execution_count": 25,
   "id": "1d6a9d4f-f42a-4ffa-a4bf-b7943058c5c4",
   "metadata": {},
   "outputs": [
    {
     "data": {
      "text/plain": [
       "0      mushrooms\n",
       "1    bellpeppers\n",
       "2      broccolli\n",
       "Name: b, dtype: object"
      ]
     },
     "execution_count": 25,
     "metadata": {},
     "output_type": "execute_result"
    }
   ],
   "source": [
    "my_df['b']"
   ]
  },
  {
   "cell_type": "markdown",
   "id": "7947bce3-c766-4431-9487-560e3d580536",
   "metadata": {},
   "source": [
    "### Index"
   ]
  },
  {
   "cell_type": "code",
   "execution_count": 26,
   "id": "8b7027da-954d-4069-abf7-c60a9a140a22",
   "metadata": {},
   "outputs": [
    {
     "data": {
      "text/plain": [
       "RangeIndex(start=0, stop=3, step=1)"
      ]
     },
     "execution_count": 26,
     "metadata": {},
     "output_type": "execute_result"
    }
   ],
   "source": [
    "my_df.index"
   ]
  },
  {
   "cell_type": "markdown",
   "id": "bf338545-e533-4476-9420-eeca18242dc7",
   "metadata": {},
   "source": [
    "This is me trying to find any way to convert to cvs. I'm not sure what's going on here but I found this information here - https://pandas.pydata.org/docs/reference/api/pandas.DataFrame.to_csv.html#pandas.DataFrame.to_csv"
   ]
  },
  {
   "cell_type": "code",
   "execution_count": 27,
   "id": "8f8824d5-86f3-4567-bc93-41f66492010c",
   "metadata": {},
   "outputs": [
    {
     "data": {
      "text/plain": [
       "',a,b\\n0,1,mushrooms\\n1,2,bellpeppers\\n2,3,broccolli\\n'"
      ]
     },
     "execution_count": 27,
     "metadata": {},
     "output_type": "execute_result"
    }
   ],
   "source": [
    "my_df.to_csv(path_or_buf=None, sep=',', na_rep='', float_format=None, columns=None, header=True, index=True, index_label=None, mode='w', encoding=None, compression='infer', quoting=None, quotechar='\"', lineterminator=None, chunksize=None, date_format=None, doublequote=True, escapechar=None, decimal='.', errors='strict', storage_options=None)"
   ]
  },
  {
   "cell_type": "markdown",
   "id": "48af87fc-3752-4703-be3f-de36d7fe4c2e",
   "metadata": {},
   "source": [
    "## Murray Texts (Chapter 1)"
   ]
  },
  {
   "cell_type": "markdown",
   "id": "2b1dea27-2b65-4cdb-9721-b13d449cb8ef",
   "metadata": {},
   "source": [
    "### What does the \"write/render/evaluate\" loop provide for creators of interactive data visualizations?\n",
    "\n",
    "\n"
   ]
  },
  {
   "cell_type": "markdown",
   "id": "3b70b69c-92c5-41e9-b84d-6314889c2887",
   "metadata": {},
   "source": [
    "As Murray explained, while it took a long time for people to map data and come to conclusive results, that only takes a faction of the time now that we have the help of coputers. Not only can we come to conclusions after, we can make alterations in the code to see how different factors would change the outcome. This helps in a more detailed analysis of the subject. "
   ]
  },
  {
   "cell_type": "markdown",
   "id": "b6350108-cf7e-4d89-8391-0078085f021f",
   "metadata": {},
   "source": [
    "### Why are dynamic, interactive data visualizations useful when communicating data?\n"
   ]
  },
  {
   "cell_type": "markdown",
   "id": "685fa735-210b-45a4-8849-065f371a2079",
   "metadata": {},
   "source": [
    "Static data can be boring or even overbearing to an audience that just wants to get done with the analysis. Since humans are always interested in interactive activities because it gives their minds to get involved, they find interactive visualization more engaging. A lot of information can be placed within dynamic data without it looking cluttered. This can make people feel accomplished when they drill deep and find new perspectives. "
   ]
  },
  {
   "cell_type": "markdown",
   "id": "51fe49ae-bce8-4027-904d-d1eb4f40ef1d",
   "metadata": {},
   "source": [
    "### Do you agree with Murray's claim that open-source tools that avoid proprietary software are best for publishing data visualization? In a few sentences, explain why you do or do not agree."
   ]
  },
  {
   "cell_type": "markdown",
   "id": "b735cefb-84f8-4882-8dfa-a0e39a798df6",
   "metadata": {},
   "source": [
    "I agree. First of all, knowledge and tools area always more popular with the audience when free of cost - hence they'll always be the dominant tools. I'm not sure what kind of features are provided by the proprietary softwares, and if they're superior in any sense, but if they are, then I believe an invest couldn't hurt. But as I learnt in class, it seems that the open sources are extremely flexible and provide decent output, so why not go for them?"
   ]
  },
  {
   "cell_type": "code",
   "execution_count": null,
   "id": "7e8a473e-0116-446a-ad1c-4b5409c63766",
   "metadata": {},
   "outputs": [],
   "source": []
  }
 ],
 "metadata": {
  "kernelspec": {
   "display_name": "Python 3 (ipykernel)",
   "language": "python",
   "name": "python3"
  },
  "language_info": {
   "codemirror_mode": {
    "name": "ipython",
    "version": 3
   },
   "file_extension": ".py",
   "mimetype": "text/x-python",
   "name": "python",
   "nbconvert_exporter": "python",
   "pygments_lexer": "ipython3",
   "version": "3.12.4"
  }
 },
 "nbformat": 4,
 "nbformat_minor": 5
}
