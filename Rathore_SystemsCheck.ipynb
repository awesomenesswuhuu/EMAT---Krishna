{
 "cells": [
  {
   "cell_type": "markdown",
   "id": "2cf8d0ca-e635-43fc-8c8b-8e5095e774d2",
   "metadata": {},
   "source": [
    "# Systems Check\n",
    "\n",
    "## Krishna Rathore \n",
    "\n",
    "### 20Aug'24"
   ]
  },
  {
   "cell_type": "markdown",
   "id": "79369532-60a5-488b-9812-082ec5389c9b",
   "metadata": {},
   "source": [
    "#### In this class, I hope to \n",
    "\n",
    "* Learn Python \n",
    "* *Analyse* stuff\n",
    "* Tell people I'm really good with **data**"
   ]
  },
  {
   "cell_type": "code",
   "execution_count": 10,
   "id": "ba8c8133-25c6-4c94-bda6-175ec4f0427b",
   "metadata": {},
   "outputs": [
    {
     "data": {
      "text/plain": [
       "5"
      ]
     },
     "execution_count": 10,
     "metadata": {},
     "output_type": "execute_result"
    }
   ],
   "source": [
    "a = 5\n",
    "a"
   ]
  },
  {
   "cell_type": "code",
   "execution_count": 11,
   "id": "b1730ba6-3b5a-493e-9a91-62b2d254f008",
   "metadata": {},
   "outputs": [
    {
     "name": "stdout",
     "output_type": "stream",
     "text": [
      "Krish\n"
     ]
    }
   ],
   "source": [
    "my_name = \"Krish\"\n",
    "print(my_name)"
   ]
  },
  {
   "cell_type": "code",
   "execution_count": 12,
   "id": "f490768e-22a1-481e-86e8-0ade49c4edb2",
   "metadata": {},
   "outputs": [
    {
     "name": "stdout",
     "output_type": "stream",
     "text": [
      "K\n",
      "r\n",
      "i\n",
      "s\n",
      "h\n"
     ]
    }
   ],
   "source": [
    "for i in my_name:\n",
    "    print(i)"
   ]
  },
  {
   "cell_type": "markdown",
   "id": "b1f0a6b0-0d64-431c-84e2-a23c3f8882c0",
   "metadata": {},
   "source": [
    "![image](coder-kid.jpg)\n"
   ]
  },
  {
   "cell_type": "code",
   "execution_count": null,
   "id": "c66e02de-273b-4e42-8f8c-680919fa2f27",
   "metadata": {},
   "outputs": [],
   "source": []
  },
  {
   "cell_type": "code",
   "execution_count": null,
   "id": "60866073-ccd2-49c9-86d9-c3653ed94453",
   "metadata": {},
   "outputs": [],
   "source": []
  }
 ],
 "metadata": {
  "kernelspec": {
   "display_name": "Python 3 (ipykernel)",
   "language": "python",
   "name": "python3"
  },
  "language_info": {
   "codemirror_mode": {
    "name": "ipython",
    "version": 3
   },
   "file_extension": ".py",
   "mimetype": "text/x-python",
   "name": "python",
   "nbconvert_exporter": "python",
   "pygments_lexer": "ipython3",
   "version": "3.12.4"
  }
 },
 "nbformat": 4,
 "nbformat_minor": 5
}
